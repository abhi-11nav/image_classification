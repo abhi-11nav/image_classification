{
  "nbformat": 4,
  "nbformat_minor": 0,
  "metadata": {
    "colab": {
      "name": "imageClassification.ipynb",
      "provenance": [],
      "mount_file_id": "1Ync6vsbsvJwBvah_4GnzSHLT-Uz4ZKdP",
      "authorship_tag": "ABX9TyOjKIgpIpNCoTpg2MiRo6hW",
      "include_colab_link": true
    },
    "kernelspec": {
      "name": "python3",
      "display_name": "Python 3"
    },
    "language_info": {
      "name": "python"
    },
    "accelerator": "GPU",
    "gpuClass": "standard"
  },
  "cells": [
    {
      "cell_type": "markdown",
      "metadata": {
        "id": "view-in-github",
        "colab_type": "text"
      },
      "source": [
        "<a href=\"https://colab.research.google.com/github/abhi-11nav/image_classification/blob/main/imageClassification.ipynb\" target=\"_parent\"><img src=\"https://colab.research.google.com/assets/colab-badge.svg\" alt=\"Open In Colab\"/></a>"
      ]
    },
    {
      "cell_type": "code",
      "execution_count": 1,
      "metadata": {
        "id": "HKD87C4ZD8A3"
      },
      "outputs": [],
      "source": [
        "import pandas as pd\n",
        "import numpy as np"
      ]
    },
    {
      "cell_type": "code",
      "source": [
        "import tensorflow as tf\n",
        "from tensorflow import keras "
      ],
      "metadata": {
        "id": "hQPPlH-0EBbo"
      },
      "execution_count": 2,
      "outputs": []
    },
    {
      "cell_type": "code",
      "source": [
        "!nvidia-smi"
      ],
      "metadata": {
        "colab": {
          "base_uri": "https://localhost:8080/"
        },
        "id": "oWp0GV9uFt1U",
        "outputId": "7de80cd2-1f1c-49ce-c10c-037c667b44b7"
      },
      "execution_count": 3,
      "outputs": [
        {
          "output_type": "stream",
          "name": "stdout",
          "text": [
            "Sun Jun 19 14:08:16 2022       \n",
            "+-----------------------------------------------------------------------------+\n",
            "| NVIDIA-SMI 460.32.03    Driver Version: 460.32.03    CUDA Version: 11.2     |\n",
            "|-------------------------------+----------------------+----------------------+\n",
            "| GPU  Name        Persistence-M| Bus-Id        Disp.A | Volatile Uncorr. ECC |\n",
            "| Fan  Temp  Perf  Pwr:Usage/Cap|         Memory-Usage | GPU-Util  Compute M. |\n",
            "|                               |                      |               MIG M. |\n",
            "|===============================+======================+======================|\n",
            "|   0  Tesla T4            Off  | 00000000:00:04.0 Off |                    0 |\n",
            "| N/A   38C    P8    10W /  70W |      0MiB / 15109MiB |      0%      Default |\n",
            "|                               |                      |                  N/A |\n",
            "+-------------------------------+----------------------+----------------------+\n",
            "                                                                               \n",
            "+-----------------------------------------------------------------------------+\n",
            "| Processes:                                                                  |\n",
            "|  GPU   GI   CI        PID   Type   Process name                  GPU Memory |\n",
            "|        ID   ID                                                   Usage      |\n",
            "|=============================================================================|\n",
            "|  No running processes found                                                 |\n",
            "+-----------------------------------------------------------------------------+\n"
          ]
        }
      ]
    },
    {
      "cell_type": "code",
      "source": [
        "tf.__version__"
      ],
      "metadata": {
        "colab": {
          "base_uri": "https://localhost:8080/",
          "height": 37
        },
        "id": "MNGpSx-3FvGN",
        "outputId": "414372b7-664e-44da-d00b-e1b65fc2ab1d"
      },
      "execution_count": 21,
      "outputs": [
        {
          "output_type": "execute_result",
          "data": {
            "text/plain": [
              "'2.8.2'"
            ],
            "application/vnd.google.colaboratory.intrinsic+json": {
              "type": "string"
            }
          },
          "metadata": {},
          "execution_count": 21
        }
      ]
    },
    {
      "cell_type": "code",
      "source": [
        "from tensorflow.keras.layers import Dense, Flatten, Input, Lambda\n",
        "from tensorflow.keras.models import Model\n",
        "from tensorflow.keras.models import Sequential   \n",
        "from tensorflow.keras.preprocessing import image\n",
        "from tensorflow.keras.preprocessing.image import ImageDataGenerator,load_img \n",
        "from keras.applications.vgg19 import VGG19\n",
        "from glob import glob"
      ],
      "metadata": {
        "id": "8ollqbYsGcmH"
      },
      "execution_count": 28,
      "outputs": []
    },
    {
      "cell_type": "code",
      "source": [
        "# Standard image_size \n",
        "\n",
        "image_size = [255,255]\n",
        "\n",
        "train_path = \"/content/drive/MyDrive/dataset/training_set/\"\n",
        "test_path = \"/content/drive/MyDrive/dataset/test_set/\""
      ],
      "metadata": {
        "id": "IY7ugSJfIR88"
      },
      "execution_count": 29,
      "outputs": []
    },
    {
      "cell_type": "code",
      "source": [
        "# Data Augmentation\n",
        "\n",
        "train_datagen = ImageDataGenerator(rescale=1./255,\n",
        "                                   zoom_range = 0.2,\n",
        "                                   horizontal_flip=True)\n",
        "\n",
        "test_datagen = ImageDataGenerator(rescale=1./255)"
      ],
      "metadata": {
        "id": "bxxAEmWQPEmS"
      },
      "execution_count": 30,
      "outputs": []
    },
    {
      "cell_type": "markdown",
      "source": [
        ""
      ],
      "metadata": {
        "id": "oAofWzOvR5zj"
      }
    },
    {
      "cell_type": "code",
      "source": [
        "training_data = train_datagen.flow_from_directory(train_path,target_size=(224,224),batch_size=16,class_mode=\"categorical\")"
      ],
      "metadata": {
        "colab": {
          "base_uri": "https://localhost:8080/"
        },
        "id": "Ti9cFIzBRdTl",
        "outputId": "852713a2-0bf1-4322-888d-cd255a98696a"
      },
      "execution_count": 31,
      "outputs": [
        {
          "output_type": "stream",
          "name": "stdout",
          "text": [
            "Found 8010 images belonging to 2 classes.\n"
          ]
        }
      ]
    },
    {
      "cell_type": "code",
      "source": [
        "test_data = test_datagen.flow_from_directory(test_path,target_size=(224,224),batch_size=16,class_mode=\"categorical\")"
      ],
      "metadata": {
        "colab": {
          "base_uri": "https://localhost:8080/"
        },
        "id": "ylBV4jFASUmD",
        "outputId": "153ae5b5-adb5-4fdd-f872-32ee67027a1c"
      },
      "execution_count": 32,
      "outputs": [
        {
          "output_type": "stream",
          "name": "stdout",
          "text": [
            "Found 1208 images belonging to 2 classes.\n"
          ]
        }
      ]
    },
    {
      "cell_type": "code",
      "source": [
        "# Importing VGG19\n",
        "\n",
        "vgg19 = VGG19(input_shape= image_size+[3], weights=\"imagenet\", include_top=False)"
      ],
      "metadata": {
        "id": "L7eE3i-qScEF",
        "colab": {
          "base_uri": "https://localhost:8080/"
        },
        "outputId": "585baf15-d1f1-4ebd-e563-f58d8efc10f0"
      },
      "execution_count": 33,
      "outputs": [
        {
          "output_type": "stream",
          "name": "stdout",
          "text": [
            "Downloading data from https://storage.googleapis.com/tensorflow/keras-applications/vgg19/vgg19_weights_tf_dim_ordering_tf_kernels_notop.h5\n",
            "80142336/80134624 [==============================] - 0s 0us/step\n",
            "80150528/80134624 [==============================] - 0s 0us/step\n"
          ]
        }
      ]
    },
    {
      "cell_type": "code",
      "source": [
        "# Restricting the model to not update weights in existing layers\n",
        "\n",
        "for layers in vgg19.layers:\n",
        "  layers.trainiable= False"
      ],
      "metadata": {
        "id": "sftldbOgTLI9"
      },
      "execution_count": 36,
      "outputs": []
    },
    {
      "cell_type": "code",
      "source": [
        "# Flattening the output layer \n",
        "\n",
        "x = Flatten()(vgg19.output)"
      ],
      "metadata": {
        "id": "u4TEbA_zTJhc"
      },
      "execution_count": 37,
      "outputs": []
    },
    {
      "cell_type": "code",
      "source": [
        "categories = glob(\"/content/drive/MyDrive/dataset/training_set/*\")"
      ],
      "metadata": {
        "id": "Dzm-Y5GUXGTk"
      },
      "execution_count": 43,
      "outputs": []
    },
    {
      "cell_type": "code",
      "source": [
        "len(categories)"
      ],
      "metadata": {
        "colab": {
          "base_uri": "https://localhost:8080/"
        },
        "id": "sy_WMYAJXMwj",
        "outputId": "09623706-42d7-4f9f-974c-78a3c95faaea"
      },
      "execution_count": 45,
      "outputs": [
        {
          "output_type": "execute_result",
          "data": {
            "text/plain": [
              "2"
            ]
          },
          "metadata": {},
          "execution_count": 45
        }
      ]
    },
    {
      "cell_type": "code",
      "source": [
        "prediction = Dense(len(categories),activation=\"sigmoid\")(x)"
      ],
      "metadata": {
        "id": "OKRrxEfXWk4J"
      },
      "execution_count": 48,
      "outputs": []
    },
    {
      "cell_type": "code",
      "source": [
        "model = Model(inputs=vgg19.input,outputs=prediction)"
      ],
      "metadata": {
        "id": "uO0Ak9JNYgp2"
      },
      "execution_count": 49,
      "outputs": []
    },
    {
      "cell_type": "code",
      "source": [
        "model.summary()"
      ],
      "metadata": {
        "colab": {
          "base_uri": "https://localhost:8080/"
        },
        "id": "CYBjKKwEY317",
        "outputId": "0c927d2d-5eb8-4b04-aa1e-b30bd1f286db"
      },
      "execution_count": 50,
      "outputs": [
        {
          "output_type": "stream",
          "name": "stdout",
          "text": [
            "Model: \"model\"\n",
            "_________________________________________________________________\n",
            " Layer (type)                Output Shape              Param #   \n",
            "=================================================================\n",
            " input_1 (InputLayer)        [(None, 255, 255, 3)]     0         \n",
            "                                                                 \n",
            " block1_conv1 (Conv2D)       (None, 255, 255, 64)      1792      \n",
            "                                                                 \n",
            " block1_conv2 (Conv2D)       (None, 255, 255, 64)      36928     \n",
            "                                                                 \n",
            " block1_pool (MaxPooling2D)  (None, 127, 127, 64)      0         \n",
            "                                                                 \n",
            " block2_conv1 (Conv2D)       (None, 127, 127, 128)     73856     \n",
            "                                                                 \n",
            " block2_conv2 (Conv2D)       (None, 127, 127, 128)     147584    \n",
            "                                                                 \n",
            " block2_pool (MaxPooling2D)  (None, 63, 63, 128)       0         \n",
            "                                                                 \n",
            " block3_conv1 (Conv2D)       (None, 63, 63, 256)       295168    \n",
            "                                                                 \n",
            " block3_conv2 (Conv2D)       (None, 63, 63, 256)       590080    \n",
            "                                                                 \n",
            " block3_conv3 (Conv2D)       (None, 63, 63, 256)       590080    \n",
            "                                                                 \n",
            " block3_conv4 (Conv2D)       (None, 63, 63, 256)       590080    \n",
            "                                                                 \n",
            " block3_pool (MaxPooling2D)  (None, 31, 31, 256)       0         \n",
            "                                                                 \n",
            " block4_conv1 (Conv2D)       (None, 31, 31, 512)       1180160   \n",
            "                                                                 \n",
            " block4_conv2 (Conv2D)       (None, 31, 31, 512)       2359808   \n",
            "                                                                 \n",
            " block4_conv3 (Conv2D)       (None, 31, 31, 512)       2359808   \n",
            "                                                                 \n",
            " block4_conv4 (Conv2D)       (None, 31, 31, 512)       2359808   \n",
            "                                                                 \n",
            " block4_pool (MaxPooling2D)  (None, 15, 15, 512)       0         \n",
            "                                                                 \n",
            " block5_conv1 (Conv2D)       (None, 15, 15, 512)       2359808   \n",
            "                                                                 \n",
            " block5_conv2 (Conv2D)       (None, 15, 15, 512)       2359808   \n",
            "                                                                 \n",
            " block5_conv3 (Conv2D)       (None, 15, 15, 512)       2359808   \n",
            "                                                                 \n",
            " block5_conv4 (Conv2D)       (None, 15, 15, 512)       2359808   \n",
            "                                                                 \n",
            " block5_pool (MaxPooling2D)  (None, 7, 7, 512)         0         \n",
            "                                                                 \n",
            " flatten (Flatten)           (None, 25088)             0         \n",
            "                                                                 \n",
            " dense_1 (Dense)             (None, 2)                 50178     \n",
            "                                                                 \n",
            "=================================================================\n",
            "Total params: 20,074,562\n",
            "Trainable params: 20,074,562\n",
            "Non-trainable params: 0\n",
            "_________________________________________________________________\n"
          ]
        }
      ]
    },
    {
      "cell_type": "code",
      "source": [
        "model.compile(loss=\"binary_crossentropy\",optimizer=\"adam\",metrics=[\"accuracy\"])"
      ],
      "metadata": {
        "id": "OCPg3YE2Z8G4"
      },
      "execution_count": 55,
      "outputs": []
    },
    {
      "cell_type": "code",
      "source": [
        "run = model.fit_generator(training_data,validation_data = test_data, epochs=10, steps_per_epoch= len(training_data),validation_steps= len(test_data))"
      ],
      "metadata": {
        "colab": {
          "base_uri": "https://localhost:8080/"
        },
        "id": "WSTC5v0tY5lo",
        "outputId": "c973c799-8aa3-4793-b445-06120a85fc56"
      },
      "execution_count": 56,
      "outputs": [
        {
          "metadata": {
            "tags": null
          },
          "name": "stderr",
          "output_type": "stream",
          "text": [
            "/usr/local/lib/python3.7/dist-packages/ipykernel_launcher.py:1: UserWarning: `Model.fit_generator` is deprecated and will be removed in a future version. Please use `Model.fit`, which supports generators.\n",
            "  \"\"\"Entry point for launching an IPython kernel.\n"
          ]
        },
        {
          "output_type": "stream",
          "name": "stdout",
          "text": [
            "Epoch 1/10\n",
            "501/501 [==============================] - 1914s 4s/step - loss: 0.7762 - accuracy: 0.5034 - val_loss: 0.6945 - val_accuracy: 0.1722\n",
            "Epoch 2/10\n",
            "501/501 [==============================] - 157s 314ms/step - loss: 0.6932 - accuracy: 0.4966 - val_loss: 0.6935 - val_accuracy: 0.1722\n",
            "Epoch 3/10\n",
            "501/501 [==============================] - 156s 312ms/step - loss: 0.6932 - accuracy: 0.4891 - val_loss: 0.6940 - val_accuracy: 0.1722\n",
            "Epoch 4/10\n",
            "501/501 [==============================] - 158s 315ms/step - loss: 0.6932 - accuracy: 0.4986 - val_loss: 0.6951 - val_accuracy: 0.1722\n",
            "Epoch 5/10\n",
            "501/501 [==============================] - 157s 313ms/step - loss: 0.6932 - accuracy: 0.4941 - val_loss: 0.6943 - val_accuracy: 0.1722\n",
            "Epoch 6/10\n",
            "501/501 [==============================] - 156s 311ms/step - loss: 0.6932 - accuracy: 0.4981 - val_loss: 0.6955 - val_accuracy: 0.1722\n",
            "Epoch 7/10\n",
            "501/501 [==============================] - 157s 313ms/step - loss: 0.6932 - accuracy: 0.4951 - val_loss: 0.6946 - val_accuracy: 0.1722\n",
            "Epoch 8/10\n",
            "501/501 [==============================] - 156s 312ms/step - loss: 0.6932 - accuracy: 0.4966 - val_loss: 0.6954 - val_accuracy: 0.1722\n",
            "Epoch 9/10\n",
            "501/501 [==============================] - 157s 313ms/step - loss: 0.6932 - accuracy: 0.4974 - val_loss: 0.6946 - val_accuracy: 0.1722\n",
            "Epoch 10/10\n",
            "501/501 [==============================] - 158s 314ms/step - loss: 0.6932 - accuracy: 0.4984 - val_loss: 0.6968 - val_accuracy: 0.1722\n"
          ]
        }
      ]
    },
    {
      "cell_type": "code",
      "source": [
        "import matplotlib.pyplot as plt "
      ],
      "metadata": {
        "id": "XHkzhKbJo0JH"
      },
      "execution_count": 60,
      "outputs": []
    },
    {
      "cell_type": "code",
      "source": [
        "plt.plot(run.history['accuracy'],label=\"accuracy\")\n",
        "plt.plot(run.history['val_accuracy'], label=\"val_accuracy\")\n",
        "plt.legend()"
      ],
      "metadata": {
        "colab": {
          "base_uri": "https://localhost:8080/",
          "height": 282
        },
        "id": "m2deXJpLZyZa",
        "outputId": "b11845e6-7c1a-451d-e76d-2600dcfec033"
      },
      "execution_count": 61,
      "outputs": [
        {
          "output_type": "execute_result",
          "data": {
            "text/plain": [
              "<matplotlib.legend.Legend at 0x7f5f3a354250>"
            ]
          },
          "metadata": {},
          "execution_count": 61
        },
        {
          "output_type": "display_data",
          "data": {
            "text/plain": [
              "<Figure size 432x288 with 1 Axes>"
            ],
            "image/png": "[encoded data removed]"
          },
          "metadata": {
            "needs_background": "light"
          }
        }
      ]
    },
    {
      "cell_type": "code",
      "source": [
        "plt.plot(run.history['loss'],label=\"loss\")\n",
        "plt.plot(run.history['val_loss'], label=\"val_loss\")\n",
        "plt.legend()"
      ],
      "metadata": {
        "colab": {
          "base_uri": "https://localhost:8080/",
          "height": 286
        },
        "id": "grhWWhJzoXpO",
        "outputId": "31ad1f81-0e8b-4811-ce6d-2bb3c093fde6"
      },
      "execution_count": 62,
      "outputs": [
        {
          "output_type": "execute_result",
          "data": {
            "text/plain": [
              "<matplotlib.legend.Legend at 0x7f5fcb203e90>"
            ]
          },
          "metadata": {},
          "execution_count": 62
        },
        {
          "output_type": "display_data",
          "data": {
            "text/plain": [
              "<Figure size 432x288 with 1 Axes>"
            ],
            "image/png": "[encoded data removed]"
          },
          "metadata": {
            "needs_background": "light"
          }
        }
      ]
    },
    {
      "cell_type": "code",
      "source": [
        "from tensorflow.keras.models import load_model\n",
        "\n",
        "model.save(\"model_vgg19.h5\")"
      ],
      "metadata": {
        "id": "9GEQj4PMo-KM"
      },
      "execution_count": 65,
      "outputs": []
    }
  ]
}